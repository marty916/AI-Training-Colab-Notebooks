{
  "nbformat": 4,
  "nbformat_minor": 0,
  "metadata": {
    "colab": {
      "provenance": [],
      "authorship_tag": "ABX9TyPKnskINqydkWF6pwEACpHo",
      "include_colab_link": true
    },
    "kernelspec": {
      "name": "python3",
      "display_name": "Python 3"
    },
    "language_info": {
      "name": "python"
    }
  },
  "cells": [
    {
      "cell_type": "markdown",
      "metadata": {
        "id": "view-in-github",
        "colab_type": "text"
      },
      "source": [
        "<a href=\"https://colab.research.google.com/github/marty916/AI-Training-Colab-Notebooks/blob/main/Fundamentals%20in%20Data%20Science/Data_Collection_Methods.ipynb\" target=\"_parent\"><img src=\"https://colab.research.google.com/assets/colab-badge.svg\" alt=\"Open In Colab\"/></a>"
      ]
    },
    {
      "cell_type": "markdown",
      "source": [
        "# Step 1 - Import the necessary components\n",
        "[10 Minutes to Pandas](https://pandas.pydata.org/docs/user_guide/10min.html)\n",
        "\n"
      ],
      "metadata": {
        "id": "7J7do8r1OYnT"
      }
    },
    {
      "cell_type": "code",
      "execution_count": null,
      "metadata": {
        "id": "-W0JWIuGsXM-"
      },
      "outputs": [],
      "source": [
        "import pandas as pd\n",
        "import requests\n",
        "from bs4 import BeautifulSoup"
      ]
    },
    {
      "cell_type": "markdown",
      "source": [
        "# Step 2\n",
        "**Pandas** is a special tool in Python (a programming language) that helps you work with data easily. Imagine you have a big table of information, like a spreadsheet in Excel or Google Sheets. Pandas lets you read that table, change it, and analyze the data quickly.\n",
        "\n",
        "Try others:\n",
        "url = 'https://people.sc.fsu.edu/~jburkardt/data/csv/airtravel.csv'"
      ],
      "metadata": {
        "id": "dCGnj_DKPjEC"
      }
    },
    {
      "cell_type": "code",
      "source": [
        "# Reading a CSV file\n",
        "\n",
        "url = 'https://people.sc.fsu.edu/~jburkardt/data/csv/hw_200.csv'\n",
        "data = pd.read_csv(url)\n",
        "data.head()"
      ],
      "metadata": {
        "id": "TT3V5X6j1ySv",
        "colab": {
          "base_uri": "https://localhost:8080/",
          "height": 206
        },
        "outputId": "1ff8ad03-c1e8-4cb8-c531-21dc3b721bf4",
        "collapsed": true
      },
      "execution_count": null,
      "outputs": [
        {
          "output_type": "execute_result",
          "data": {
            "text/plain": [
              "   Index   Height(Inches)\"   \"Weight(Pounds)\"\n",
              "0      1             65.78             112.99\n",
              "1      2             71.52             136.49\n",
              "2      3             69.40             153.03\n",
              "3      4             68.22             142.34\n",
              "4      5             67.79             144.30"
            ],
            "text/html": [
              "\n",
              "  <div id=\"df-4bb2549b-7f99-4a0a-ba04-db84778519fd\" class=\"colab-df-container\">\n",
              "    <div>\n",
              "<style scoped>\n",
              "    .dataframe tbody tr th:only-of-type {\n",
              "        vertical-align: middle;\n",
              "    }\n",
              "\n",
              "    .dataframe tbody tr th {\n",
              "        vertical-align: top;\n",
              "    }\n",
              "\n",
              "    .dataframe thead th {\n",
              "        text-align: right;\n",
              "    }\n",
              "</style>\n",
              "<table border=\"1\" class=\"dataframe\">\n",
              "  <thead>\n",
              "    <tr style=\"text-align: right;\">\n",
              "      <th></th>\n",
              "      <th>Index</th>\n",
              "      <th>Height(Inches)\"</th>\n",
              "      <th>\"Weight(Pounds)\"</th>\n",
              "    </tr>\n",
              "  </thead>\n",
              "  <tbody>\n",
              "    <tr>\n",
              "      <th>0</th>\n",
              "      <td>1</td>\n",
              "      <td>65.78</td>\n",
              "      <td>112.99</td>\n",
              "    </tr>\n",
              "    <tr>\n",
              "      <th>1</th>\n",
              "      <td>2</td>\n",
              "      <td>71.52</td>\n",
              "      <td>136.49</td>\n",
              "    </tr>\n",
              "    <tr>\n",
              "      <th>2</th>\n",
              "      <td>3</td>\n",
              "      <td>69.40</td>\n",
              "      <td>153.03</td>\n",
              "    </tr>\n",
              "    <tr>\n",
              "      <th>3</th>\n",
              "      <td>4</td>\n",
              "      <td>68.22</td>\n",
              "      <td>142.34</td>\n",
              "    </tr>\n",
              "    <tr>\n",
              "      <th>4</th>\n",
              "      <td>5</td>\n",
              "      <td>67.79</td>\n",
              "      <td>144.30</td>\n",
              "    </tr>\n",
              "  </tbody>\n",
              "</table>\n",
              "</div>\n",
              "    <div class=\"colab-df-buttons\">\n",
              "\n",
              "  <div class=\"colab-df-container\">\n",
              "    <button class=\"colab-df-convert\" onclick=\"convertToInteractive('df-4bb2549b-7f99-4a0a-ba04-db84778519fd')\"\n",
              "            title=\"Convert this dataframe to an interactive table.\"\n",
              "            style=\"display:none;\">\n",
              "\n",
              "  <svg xmlns=\"http://www.w3.org/2000/svg\" height=\"24px\" viewBox=\"0 -960 960 960\">\n",
              "    <path d=\"M120-120v-720h720v720H120Zm60-500h600v-160H180v160Zm220 220h160v-160H400v160Zm0 220h160v-160H400v160ZM180-400h160v-160H180v160Zm440 0h160v-160H620v160ZM180-180h160v-160H180v160Zm440 0h160v-160H620v160Z\"/>\n",
              "  </svg>\n",
              "    </button>\n",
              "\n",
              "  <style>\n",
              "    .colab-df-container {\n",
              "      display:flex;\n",
              "      gap: 12px;\n",
              "    }\n",
              "\n",
              "    .colab-df-convert {\n",
              "      background-color: #E8F0FE;\n",
              "      border: none;\n",
              "      border-radius: 50%;\n",
              "      cursor: pointer;\n",
              "      display: none;\n",
              "      fill: #1967D2;\n",
              "      height: 32px;\n",
              "      padding: 0 0 0 0;\n",
              "      width: 32px;\n",
              "    }\n",
              "\n",
              "    .colab-df-convert:hover {\n",
              "      background-color: #E2EBFA;\n",
              "      box-shadow: 0px 1px 2px rgba(60, 64, 67, 0.3), 0px 1px 3px 1px rgba(60, 64, 67, 0.15);\n",
              "      fill: #174EA6;\n",
              "    }\n",
              "\n",
              "    .colab-df-buttons div {\n",
              "      margin-bottom: 4px;\n",
              "    }\n",
              "\n",
              "    [theme=dark] .colab-df-convert {\n",
              "      background-color: #3B4455;\n",
              "      fill: #D2E3FC;\n",
              "    }\n",
              "\n",
              "    [theme=dark] .colab-df-convert:hover {\n",
              "      background-color: #434B5C;\n",
              "      box-shadow: 0px 1px 3px 1px rgba(0, 0, 0, 0.15);\n",
              "      filter: drop-shadow(0px 1px 2px rgba(0, 0, 0, 0.3));\n",
              "      fill: #FFFFFF;\n",
              "    }\n",
              "  </style>\n",
              "\n",
              "    <script>\n",
              "      const buttonEl =\n",
              "        document.querySelector('#df-4bb2549b-7f99-4a0a-ba04-db84778519fd button.colab-df-convert');\n",
              "      buttonEl.style.display =\n",
              "        google.colab.kernel.accessAllowed ? 'block' : 'none';\n",
              "\n",
              "      async function convertToInteractive(key) {\n",
              "        const element = document.querySelector('#df-4bb2549b-7f99-4a0a-ba04-db84778519fd');\n",
              "        const dataTable =\n",
              "          await google.colab.kernel.invokeFunction('convertToInteractive',\n",
              "                                                    [key], {});\n",
              "        if (!dataTable) return;\n",
              "\n",
              "        const docLinkHtml = 'Like what you see? Visit the ' +\n",
              "          '<a target=\"_blank\" href=https://colab.research.google.com/notebooks/data_table.ipynb>data table notebook</a>'\n",
              "          + ' to learn more about interactive tables.';\n",
              "        element.innerHTML = '';\n",
              "        dataTable['output_type'] = 'display_data';\n",
              "        await google.colab.output.renderOutput(dataTable, element);\n",
              "        const docLink = document.createElement('div');\n",
              "        docLink.innerHTML = docLinkHtml;\n",
              "        element.appendChild(docLink);\n",
              "      }\n",
              "    </script>\n",
              "  </div>\n",
              "\n",
              "\n",
              "<div id=\"df-27e9a942-3557-4203-a3fc-7ccd50edaa9f\">\n",
              "  <button class=\"colab-df-quickchart\" onclick=\"quickchart('df-27e9a942-3557-4203-a3fc-7ccd50edaa9f')\"\n",
              "            title=\"Suggest charts\"\n",
              "            style=\"display:none;\">\n",
              "\n",
              "<svg xmlns=\"http://www.w3.org/2000/svg\" height=\"24px\"viewBox=\"0 0 24 24\"\n",
              "     width=\"24px\">\n",
              "    <g>\n",
              "        <path d=\"M19 3H5c-1.1 0-2 .9-2 2v14c0 1.1.9 2 2 2h14c1.1 0 2-.9 2-2V5c0-1.1-.9-2-2-2zM9 17H7v-7h2v7zm4 0h-2V7h2v10zm4 0h-2v-4h2v4z\"/>\n",
              "    </g>\n",
              "</svg>\n",
              "  </button>\n",
              "\n",
              "<style>\n",
              "  .colab-df-quickchart {\n",
              "      --bg-color: #E8F0FE;\n",
              "      --fill-color: #1967D2;\n",
              "      --hover-bg-color: #E2EBFA;\n",
              "      --hover-fill-color: #174EA6;\n",
              "      --disabled-fill-color: #AAA;\n",
              "      --disabled-bg-color: #DDD;\n",
              "  }\n",
              "\n",
              "  [theme=dark] .colab-df-quickchart {\n",
              "      --bg-color: #3B4455;\n",
              "      --fill-color: #D2E3FC;\n",
              "      --hover-bg-color: #434B5C;\n",
              "      --hover-fill-color: #FFFFFF;\n",
              "      --disabled-bg-color: #3B4455;\n",
              "      --disabled-fill-color: #666;\n",
              "  }\n",
              "\n",
              "  .colab-df-quickchart {\n",
              "    background-color: var(--bg-color);\n",
              "    border: none;\n",
              "    border-radius: 50%;\n",
              "    cursor: pointer;\n",
              "    display: none;\n",
              "    fill: var(--fill-color);\n",
              "    height: 32px;\n",
              "    padding: 0;\n",
              "    width: 32px;\n",
              "  }\n",
              "\n",
              "  .colab-df-quickchart:hover {\n",
              "    background-color: var(--hover-bg-color);\n",
              "    box-shadow: 0 1px 2px rgba(60, 64, 67, 0.3), 0 1px 3px 1px rgba(60, 64, 67, 0.15);\n",
              "    fill: var(--button-hover-fill-color);\n",
              "  }\n",
              "\n",
              "  .colab-df-quickchart-complete:disabled,\n",
              "  .colab-df-quickchart-complete:disabled:hover {\n",
              "    background-color: var(--disabled-bg-color);\n",
              "    fill: var(--disabled-fill-color);\n",
              "    box-shadow: none;\n",
              "  }\n",
              "\n",
              "  .colab-df-spinner {\n",
              "    border: 2px solid var(--fill-color);\n",
              "    border-color: transparent;\n",
              "    border-bottom-color: var(--fill-color);\n",
              "    animation:\n",
              "      spin 1s steps(1) infinite;\n",
              "  }\n",
              "\n",
              "  @keyframes spin {\n",
              "    0% {\n",
              "      border-color: transparent;\n",
              "      border-bottom-color: var(--fill-color);\n",
              "      border-left-color: var(--fill-color);\n",
              "    }\n",
              "    20% {\n",
              "      border-color: transparent;\n",
              "      border-left-color: var(--fill-color);\n",
              "      border-top-color: var(--fill-color);\n",
              "    }\n",
              "    30% {\n",
              "      border-color: transparent;\n",
              "      border-left-color: var(--fill-color);\n",
              "      border-top-color: var(--fill-color);\n",
              "      border-right-color: var(--fill-color);\n",
              "    }\n",
              "    40% {\n",
              "      border-color: transparent;\n",
              "      border-right-color: var(--fill-color);\n",
              "      border-top-color: var(--fill-color);\n",
              "    }\n",
              "    60% {\n",
              "      border-color: transparent;\n",
              "      border-right-color: var(--fill-color);\n",
              "    }\n",
              "    80% {\n",
              "      border-color: transparent;\n",
              "      border-right-color: var(--fill-color);\n",
              "      border-bottom-color: var(--fill-color);\n",
              "    }\n",
              "    90% {\n",
              "      border-color: transparent;\n",
              "      border-bottom-color: var(--fill-color);\n",
              "    }\n",
              "  }\n",
              "</style>\n",
              "\n",
              "  <script>\n",
              "    async function quickchart(key) {\n",
              "      const quickchartButtonEl =\n",
              "        document.querySelector('#' + key + ' button');\n",
              "      quickchartButtonEl.disabled = true;  // To prevent multiple clicks.\n",
              "      quickchartButtonEl.classList.add('colab-df-spinner');\n",
              "      try {\n",
              "        const charts = await google.colab.kernel.invokeFunction(\n",
              "            'suggestCharts', [key], {});\n",
              "      } catch (error) {\n",
              "        console.error('Error during call to suggestCharts:', error);\n",
              "      }\n",
              "      quickchartButtonEl.classList.remove('colab-df-spinner');\n",
              "      quickchartButtonEl.classList.add('colab-df-quickchart-complete');\n",
              "    }\n",
              "    (() => {\n",
              "      let quickchartButtonEl =\n",
              "        document.querySelector('#df-27e9a942-3557-4203-a3fc-7ccd50edaa9f button');\n",
              "      quickchartButtonEl.style.display =\n",
              "        google.colab.kernel.accessAllowed ? 'block' : 'none';\n",
              "    })();\n",
              "  </script>\n",
              "</div>\n",
              "\n",
              "    </div>\n",
              "  </div>\n"
            ],
            "application/vnd.google.colaboratory.intrinsic+json": {
              "type": "dataframe",
              "variable_name": "data",
              "summary": "{\n  \"name\": \"data\",\n  \"rows\": 200,\n  \"fields\": [\n    {\n      \"column\": \"Index\",\n      \"properties\": {\n        \"dtype\": \"number\",\n        \"std\": 57,\n        \"min\": 1,\n        \"max\": 200,\n        \"num_unique_values\": 200,\n        \"samples\": [\n          96,\n          16,\n          31\n        ],\n        \"semantic_type\": \"\",\n        \"description\": \"\"\n      }\n    },\n    {\n      \"column\": \" Height(Inches)\\\"\",\n      \"properties\": {\n        \"dtype\": \"number\",\n        \"std\": 1.9403625936857454,\n        \"min\": 63.43,\n        \"max\": 73.9,\n        \"num_unique_values\": 167,\n        \"samples\": [\n          67.72,\n          68.83,\n          69.2\n        ],\n        \"semantic_type\": \"\",\n        \"description\": \"\"\n      }\n    },\n    {\n      \"column\": \" \\\"Weight(Pounds)\\\"\",\n      \"properties\": {\n        \"dtype\": \"number\",\n        \"std\": 11.960959176403788,\n        \"min\": 97.9,\n        \"max\": 158.96,\n        \"num_unique_values\": 196,\n        \"samples\": [\n          127.58,\n          132.68,\n          129.5\n        ],\n        \"semantic_type\": \"\",\n        \"description\": \"\"\n      }\n    }\n  ]\n}"
            }
          },
          "metadata": {},
          "execution_count": 3
        }
      ]
    },
    {
      "cell_type": "markdown",
      "source": [
        "# Step 3\n",
        "**Requests** is a Python tool that lets you connect to websites and get information from them. It's like your web browser but for your Python programs. With Requests, you can ask a website for data and it will send it back to you."
      ],
      "metadata": {
        "id": "DToEHwzfOh_Y"
      }
    },
    {
      "cell_type": "code",
      "source": [
        "# Fetching data from a public API\n",
        "api_url = 'https://api.exchangerate-api.com/v4/latest/USD'\n",
        "response = requests.get(api_url)\n",
        "data = response.json()\n",
        "data\n"
      ],
      "metadata": {
        "id": "gfwFPMd62H_i",
        "colab": {
          "base_uri": "https://localhost:8080/"
        },
        "outputId": "c16aba26-371a-4cca-c1f7-f68b18a5e621"
      },
      "execution_count": null,
      "outputs": [
        {
          "output_type": "execute_result",
          "data": {
            "text/plain": [
              "{'provider': 'https://www.exchangerate-api.com',\n",
              " 'WARNING_UPGRADE_TO_V6': 'https://www.exchangerate-api.com/docs/free',\n",
              " 'terms': 'https://www.exchangerate-api.com/terms',\n",
              " 'base': 'USD',\n",
              " 'date': '2024-07-25',\n",
              " 'time_last_updated': 1721865601,\n",
              " 'rates': {'USD': 1,\n",
              "  'AED': 3.67,\n",
              "  'AFN': 70.69,\n",
              "  'ALL': 92.52,\n",
              "  'AMD': 387.97,\n",
              "  'ANG': 1.79,\n",
              "  'AOA': 890.03,\n",
              "  'ARS': 928.67,\n",
              "  'AUD': 1.52,\n",
              "  'AWG': 1.79,\n",
              "  'AZN': 1.7,\n",
              "  'BAM': 1.8,\n",
              "  'BBD': 2,\n",
              "  'BDT': 117.46,\n",
              "  'BGN': 1.8,\n",
              "  'BHD': 0.376,\n",
              "  'BIF': 2878.21,\n",
              "  'BMD': 1,\n",
              "  'BND': 1.34,\n",
              "  'BOB': 6.92,\n",
              "  'BRL': 5.61,\n",
              "  'BSD': 1,\n",
              "  'BTN': 83.74,\n",
              "  'BWP': 13.58,\n",
              "  'BYN': 3.26,\n",
              "  'BZD': 2,\n",
              "  'CAD': 1.38,\n",
              "  'CDF': 2829.98,\n",
              "  'CHF': 0.885,\n",
              "  'CLP': 946.24,\n",
              "  'CNY': 7.27,\n",
              "  'COP': 4013.12,\n",
              "  'CRC': 528.75,\n",
              "  'CUP': 24,\n",
              "  'CVE': 101.71,\n",
              "  'CZK': 23.43,\n",
              "  'DJF': 177.72,\n",
              "  'DKK': 6.88,\n",
              "  'DOP': 59.13,\n",
              "  'DZD': 134.55,\n",
              "  'EGP': 48.35,\n",
              "  'ERN': 15,\n",
              "  'ETB': 57.67,\n",
              "  'EUR': 0.922,\n",
              "  'FJD': 2.25,\n",
              "  'FKP': 0.775,\n",
              "  'FOK': 6.88,\n",
              "  'GBP': 0.775,\n",
              "  'GEL': 2.72,\n",
              "  'GGP': 0.775,\n",
              "  'GHS': 15.57,\n",
              "  'GIP': 0.775,\n",
              "  'GMD': 66.9,\n",
              "  'GNF': 8637.07,\n",
              "  'GTQ': 7.75,\n",
              "  'GYD': 208.98,\n",
              "  'HKD': 7.81,\n",
              "  'HNL': 24.74,\n",
              "  'HRK': 6.95,\n",
              "  'HTG': 131.85,\n",
              "  'HUF': 362.44,\n",
              "  'IDR': 16229.53,\n",
              "  'ILS': 3.64,\n",
              "  'IMP': 0.775,\n",
              "  'INR': 83.74,\n",
              "  'IQD': 1309.13,\n",
              "  'IRR': 42051.76,\n",
              "  'ISK': 137.98,\n",
              "  'JEP': 0.775,\n",
              "  'JMD': 156.46,\n",
              "  'JOD': 0.709,\n",
              "  'JPY': 153.93,\n",
              "  'KES': 132.33,\n",
              "  'KGS': 84.45,\n",
              "  'KHR': 4111.7,\n",
              "  'KID': 1.52,\n",
              "  'KMF': 453.8,\n",
              "  'KRW': 1382.31,\n",
              "  'KWD': 0.306,\n",
              "  'KYD': 0.833,\n",
              "  'KZT': 473.98,\n",
              "  'LAK': 22076.24,\n",
              "  'LBP': 89500,\n",
              "  'LKR': 303.11,\n",
              "  'LRD': 194.7,\n",
              "  'LSL': 18.35,\n",
              "  'LYD': 4.83,\n",
              "  'MAD': 9.88,\n",
              "  'MDL': 17.68,\n",
              "  'MGA': 4541.82,\n",
              "  'MKD': 56.74,\n",
              "  'MMK': 2099.37,\n",
              "  'MNT': 3382.18,\n",
              "  'MOP': 8.04,\n",
              "  'MRU': 39.72,\n",
              "  'MUR': 46.64,\n",
              "  'MVR': 15.43,\n",
              "  'MWK': 1738.9,\n",
              "  'MXN': 18.36,\n",
              "  'MYR': 4.67,\n",
              "  'MZN': 63.83,\n",
              "  'NAD': 18.35,\n",
              "  'NGN': 1595.57,\n",
              "  'NIO': 36.77,\n",
              "  'NOK': 11.02,\n",
              "  'NPR': 133.98,\n",
              "  'NZD': 1.69,\n",
              "  'OMR': 0.384,\n",
              "  'PAB': 1,\n",
              "  'PEN': 3.76,\n",
              "  'PGK': 3.86,\n",
              "  'PHP': 58.59,\n",
              "  'PKR': 278.43,\n",
              "  'PLN': 3.96,\n",
              "  'PYG': 7583.74,\n",
              "  'QAR': 3.64,\n",
              "  'RON': 4.58,\n",
              "  'RSD': 107.89,\n",
              "  'RUB': 86.56,\n",
              "  'RWF': 1317.86,\n",
              "  'SAR': 3.75,\n",
              "  'SBD': 8.47,\n",
              "  'SCR': 13.8,\n",
              "  'SDG': 543.25,\n",
              "  'SEK': 10.77,\n",
              "  'SGD': 1.34,\n",
              "  'SHP': 0.775,\n",
              "  'SLE': 22.47,\n",
              "  'SLL': 22465.63,\n",
              "  'SOS': 570.79,\n",
              "  'SRD': 29.26,\n",
              "  'SSP': 1849.72,\n",
              "  'STN': 22.6,\n",
              "  'SYP': 12914.25,\n",
              "  'SZL': 18.35,\n",
              "  'THB': 36.11,\n",
              "  'TJS': 10.66,\n",
              "  'TMT': 3.5,\n",
              "  'TND': 3.1,\n",
              "  'TOP': 2.35,\n",
              "  'TRY': 32.88,\n",
              "  'TTD': 6.78,\n",
              "  'TVD': 1.52,\n",
              "  'TWD': 32.72,\n",
              "  'TZS': 2669.27,\n",
              "  'UAH': 41.25,\n",
              "  'UGX': 3700.69,\n",
              "  'UYU': 40.16,\n",
              "  'UZS': 12558.68,\n",
              "  'VES': 36.56,\n",
              "  'VND': 25349.88,\n",
              "  'VUV': 119.94,\n",
              "  'WST': 2.75,\n",
              "  'XAF': 605.06,\n",
              "  'XCD': 2.7,\n",
              "  'XDR': 0.755,\n",
              "  'XOF': 605.06,\n",
              "  'XPF': 110.07,\n",
              "  'YER': 249.97,\n",
              "  'ZAR': 18.35,\n",
              "  'ZMW': 26.01,\n",
              "  'ZWL': 13.77}}"
            ]
          },
          "metadata": {},
          "execution_count": 2
        }
      ]
    },
    {
      "cell_type": "code",
      "source": [
        "# what's data look like?\n",
        "print(type(data))\n",
        "print(data)"
      ],
      "metadata": {
        "colab": {
          "base_uri": "https://localhost:8080/"
        },
        "id": "dU5vYThEKw0i",
        "outputId": "3acd4cfb-9266-4c8d-b072-573567358c63"
      },
      "execution_count": null,
      "outputs": [
        {
          "output_type": "stream",
          "name": "stdout",
          "text": [
            "<class 'dict'>\n",
            "{'provider': 'https://www.exchangerate-api.com', 'WARNING_UPGRADE_TO_V6': 'https://www.exchangerate-api.com/docs/free', 'terms': 'https://www.exchangerate-api.com/terms', 'base': 'USD', 'date': '2024-07-25', 'time_last_updated': 1721865601, 'rates': {'USD': 1, 'AED': 3.67, 'AFN': 70.69, 'ALL': 92.52, 'AMD': 387.97, 'ANG': 1.79, 'AOA': 890.03, 'ARS': 928.67, 'AUD': 1.52, 'AWG': 1.79, 'AZN': 1.7, 'BAM': 1.8, 'BBD': 2, 'BDT': 117.46, 'BGN': 1.8, 'BHD': 0.376, 'BIF': 2878.21, 'BMD': 1, 'BND': 1.34, 'BOB': 6.92, 'BRL': 5.61, 'BSD': 1, 'BTN': 83.74, 'BWP': 13.58, 'BYN': 3.26, 'BZD': 2, 'CAD': 1.38, 'CDF': 2829.98, 'CHF': 0.885, 'CLP': 946.24, 'CNY': 7.27, 'COP': 4013.12, 'CRC': 528.75, 'CUP': 24, 'CVE': 101.71, 'CZK': 23.43, 'DJF': 177.72, 'DKK': 6.88, 'DOP': 59.13, 'DZD': 134.55, 'EGP': 48.35, 'ERN': 15, 'ETB': 57.67, 'EUR': 0.922, 'FJD': 2.25, 'FKP': 0.775, 'FOK': 6.88, 'GBP': 0.775, 'GEL': 2.72, 'GGP': 0.775, 'GHS': 15.57, 'GIP': 0.775, 'GMD': 66.9, 'GNF': 8637.07, 'GTQ': 7.75, 'GYD': 208.98, 'HKD': 7.81, 'HNL': 24.74, 'HRK': 6.95, 'HTG': 131.85, 'HUF': 362.44, 'IDR': 16229.53, 'ILS': 3.64, 'IMP': 0.775, 'INR': 83.74, 'IQD': 1309.13, 'IRR': 42051.76, 'ISK': 137.98, 'JEP': 0.775, 'JMD': 156.46, 'JOD': 0.709, 'JPY': 153.93, 'KES': 132.33, 'KGS': 84.45, 'KHR': 4111.7, 'KID': 1.52, 'KMF': 453.8, 'KRW': 1382.31, 'KWD': 0.306, 'KYD': 0.833, 'KZT': 473.98, 'LAK': 22076.24, 'LBP': 89500, 'LKR': 303.11, 'LRD': 194.7, 'LSL': 18.35, 'LYD': 4.83, 'MAD': 9.88, 'MDL': 17.68, 'MGA': 4541.82, 'MKD': 56.74, 'MMK': 2099.37, 'MNT': 3382.18, 'MOP': 8.04, 'MRU': 39.72, 'MUR': 46.64, 'MVR': 15.43, 'MWK': 1738.9, 'MXN': 18.36, 'MYR': 4.67, 'MZN': 63.83, 'NAD': 18.35, 'NGN': 1595.57, 'NIO': 36.77, 'NOK': 11.02, 'NPR': 133.98, 'NZD': 1.69, 'OMR': 0.384, 'PAB': 1, 'PEN': 3.76, 'PGK': 3.86, 'PHP': 58.59, 'PKR': 278.43, 'PLN': 3.96, 'PYG': 7583.74, 'QAR': 3.64, 'RON': 4.58, 'RSD': 107.89, 'RUB': 86.56, 'RWF': 1317.86, 'SAR': 3.75, 'SBD': 8.47, 'SCR': 13.8, 'SDG': 543.25, 'SEK': 10.77, 'SGD': 1.34, 'SHP': 0.775, 'SLE': 22.47, 'SLL': 22465.63, 'SOS': 570.79, 'SRD': 29.26, 'SSP': 1849.72, 'STN': 22.6, 'SYP': 12914.25, 'SZL': 18.35, 'THB': 36.11, 'TJS': 10.66, 'TMT': 3.5, 'TND': 3.1, 'TOP': 2.35, 'TRY': 32.88, 'TTD': 6.78, 'TVD': 1.52, 'TWD': 32.72, 'TZS': 2669.27, 'UAH': 41.25, 'UGX': 3700.69, 'UYU': 40.16, 'UZS': 12558.68, 'VES': 36.56, 'VND': 25349.88, 'VUV': 119.94, 'WST': 2.75, 'XAF': 605.06, 'XCD': 2.7, 'XDR': 0.755, 'XOF': 605.06, 'XPF': 110.07, 'YER': 249.97, 'ZAR': 18.35, 'ZMW': 26.01, 'ZWL': 13.77}}\n"
          ]
        }
      ]
    },
    {
      "cell_type": "code",
      "source": [
        "# print the keys\n",
        "print(data.keys())"
      ],
      "metadata": {
        "colab": {
          "base_uri": "https://localhost:8080/"
        },
        "id": "xwgXiRCoLMNb",
        "outputId": "e471e64a-7bad-4e68-e8f9-8829d76e9fcc"
      },
      "execution_count": null,
      "outputs": [
        {
          "output_type": "stream",
          "name": "stdout",
          "text": [
            "dict_keys(['provider', 'WARNING_UPGRADE_TO_V6', 'terms', 'base', 'date', 'time_last_updated', 'rates'])\n"
          ]
        }
      ]
    },
    {
      "cell_type": "code",
      "source": [
        "# print specific value\n",
        "print(data['rates']['EUR'])"
      ],
      "metadata": {
        "colab": {
          "base_uri": "https://localhost:8080/"
        },
        "id": "kdifsHr3LZAO",
        "outputId": "7cb50c06-ea6c-4a10-91e3-9f4de1af43c8"
      },
      "execution_count": null,
      "outputs": [
        {
          "output_type": "stream",
          "name": "stdout",
          "text": [
            "0.922\n"
          ]
        }
      ]
    },
    {
      "cell_type": "code",
      "source": [
        "# print a spefic rate and time_last_updated\n",
        "print(data['rates']['EUR'], data['time_last_updated'])"
      ],
      "metadata": {
        "colab": {
          "base_uri": "https://localhost:8080/"
        },
        "id": "3NmcePrqLnWY",
        "outputId": "721e252e-07c4-4d76-91f9-616494c89ef7"
      },
      "execution_count": null,
      "outputs": [
        {
          "output_type": "stream",
          "name": "stdout",
          "text": [
            "0.922 1721865601\n"
          ]
        }
      ]
    },
    {
      "source": [
        "import datetime\n",
        "\n",
        "# print a specific rate and forma the data for time_last_updated\n",
        "print(data['rates']['EUR'], datetime.datetime.fromtimestamp(data['time_last_updated']).strftime('%Y-%m-%d'))"
      ],
      "cell_type": "code",
      "metadata": {
        "colab": {
          "base_uri": "https://localhost:8080/"
        },
        "id": "s_ReI5f1MTuF",
        "outputId": "7380952c-0c0a-442b-b448-5b148de03384"
      },
      "execution_count": null,
      "outputs": [
        {
          "output_type": "stream",
          "name": "stdout",
          "text": [
            "0.922 2024-07-25\n"
          ]
        }
      ]
    },
    {
      "cell_type": "markdown",
      "source": [
        "# Step 4\n",
        "**BeautifulSoup** is a tool in Python used to read and understand the content of websites. It helps you take messy web pages and turn them into something neat and organized that you can work with."
      ],
      "metadata": {
        "id": "q5Sd90yTOona"
      }
    },
    {
      "cell_type": "code",
      "source": [
        "# Web Scraping with BeautifulSoup\n",
        "url = 'https://www.example.com'\n",
        "response = requests.get(url)\n",
        "soup = BeautifulSoup(response.content, 'html.parser')\n",
        "print(soup.title.text)\n"
      ],
      "metadata": {
        "id": "8nN3yhg62PrA"
      },
      "execution_count": null,
      "outputs": []
    }
  ]
}