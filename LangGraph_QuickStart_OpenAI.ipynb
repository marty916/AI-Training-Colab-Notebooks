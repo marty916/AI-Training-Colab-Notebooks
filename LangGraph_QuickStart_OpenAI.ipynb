{
  "nbformat": 4,
  "nbformat_minor": 0,
  "metadata": {
    "colab": {
      "provenance": [],
      "authorship_tag": "ABX9TyOxafhS93hj9ogNgv+pWIHF",
      "include_colab_link": true
    },
    "kernelspec": {
      "name": "python3",
      "display_name": "Python 3"
    },
    "language_info": {
      "name": "python"
    }
  },
  "cells": [
    {
      "cell_type": "markdown",
      "metadata": {
        "id": "view-in-github",
        "colab_type": "text"
      },
      "source": [
        "<a href=\"https://colab.research.google.com/github/marty916/AI-Training-Colab-Notebooks/blob/main/LangGraph_QuickStart_OpenAI.ipynb\" target=\"_parent\"><img src=\"https://colab.research.google.com/assets/colab-badge.svg\" alt=\"Open In Colab\"/></a>"
      ]
    },
    {
      "cell_type": "markdown",
      "source": [
        "# Part 1: Build a Basic Chatbot using LangGraph"
      ],
      "metadata": {
        "id": "9BiO-gLk4M98"
      }
    },
    {
      "cell_type": "markdown",
      "source": [
        "### Step 1: Application Setup"
      ],
      "metadata": {
        "id": "arSfjiU632c2"
      }
    },
    {
      "cell_type": "code",
      "execution_count": null,
      "metadata": {
        "id": "_69H-p4T3tEY"
      },
      "outputs": [],
      "source": [
        "# Install required libraries\n",
        "!pip install -U langgraph langchain_openai"
      ]
    },
    {
      "cell_type": "code",
      "source": [
        "# Retrieve api_key from colab secrets\n",
        "from google.colab import userdata\n",
        "api_key=userdata.get('OPENAI_API_KEY')"
      ],
      "metadata": {
        "id": "UC1gWGFD4GNm"
      },
      "execution_count": null,
      "outputs": []
    },
    {
      "cell_type": "markdown",
      "source": [
        "### Step 2: Create the LangGraph state graph"
      ],
      "metadata": {
        "id": "MUxYq8ate7gI"
      }
    },
    {
      "cell_type": "code",
      "source": [
        "# Annotated standard in Python 3.8\n",
        "# TypedDict standard in Python 3.9\n",
        "# Using an ealier version of python use `typing_extension` instead of `typing`\n",
        "from typing import Annotated, TypedDict\n",
        "from langgraph.graph import StateGraph, START, END\n",
        "from langgraph.graph.message import add_messages\n",
        "\n",
        "\n",
        "class State(TypedDict):\n",
        "    # Messages have the type \"list\". The `add_messages` function\n",
        "    # in the annotation defines how this state key should be updated\n",
        "    # (in this case, it appends messages to the list, rather than overwriting them)\n",
        "    messages: Annotated[list, add_messages]\n",
        "\n",
        "\n",
        "graph_builder = StateGraph(State)"
      ],
      "metadata": {
        "id": "zAvRTw754MgT"
      },
      "execution_count": null,
      "outputs": []
    },
    {
      "cell_type": "markdown",
      "source": [
        "### Step 3: Add the `chatbot` node. This node calls the LLM.\n"
      ],
      "metadata": {
        "id": "M4brLkzg4mxl"
      }
    },
    {
      "cell_type": "code",
      "source": [
        "from langchain_openai import ChatOpenAI\n",
        "\n",
        "\n",
        "llm = ChatOpenAI(api_key=api_key, model=\"gpt-4\")\n",
        "\n",
        "\n",
        "def chatbot(state: State):\n",
        "    return {\"messages\": [llm.invoke(state[\"messages\"])]}\n",
        "\n",
        "\n",
        "# The first argument is the unique node name\n",
        "# The second argument is the function or object that will be called whenever\n",
        "# the node is used.\n",
        "graph_builder.add_node(\"chatbot\", chatbot)"
      ],
      "metadata": {
        "id": "KzW1eML-4v3p"
      },
      "execution_count": null,
      "outputs": []
    },
    {
      "cell_type": "markdown",
      "source": [
        "### Step 4: Add an entry point edge,  telling our graph where to start each time we run it."
      ],
      "metadata": {
        "id": "Pd92Qd_W5KcS"
      }
    },
    {
      "cell_type": "code",
      "source": [
        "graph_builder.add_edge(START, \"chatbot\")"
      ],
      "metadata": {
        "id": "usGH7vfg5RMd"
      },
      "execution_count": null,
      "outputs": []
    },
    {
      "cell_type": "markdown",
      "source": [
        "### Step 5: Add a finish point edge, instructing our graph **any time this node is run, you can exit.**"
      ],
      "metadata": {
        "id": "oMSK6KBp5UhY"
      }
    },
    {
      "cell_type": "code",
      "source": [
        "graph_builder.add_edge(\"chatbot\", END)"
      ],
      "metadata": {
        "id": "jupJJkq75j-0"
      },
      "execution_count": null,
      "outputs": []
    },
    {
      "cell_type": "markdown",
      "source": [
        "### Step 6: Compile the graph"
      ],
      "metadata": {
        "id": "GNDjEjDS5oXP"
      }
    },
    {
      "cell_type": "code",
      "source": [
        "graph = graph_builder.compile()"
      ],
      "metadata": {
        "id": "3Z8ZVPEY5u98"
      },
      "execution_count": null,
      "outputs": []
    },
    {
      "cell_type": "code",
      "source": [
        "# Let's visualize the graph. We don't need to do this but when we are building\n",
        "# and testing it's nice to see it.\n",
        "from IPython.display import Image, display\n",
        "\n",
        "try:\n",
        "    display(Image(graph.get_graph().draw_mermaid_png()))\n",
        "except Exception:\n",
        "    # This requires some extra dependencies and is optional\n",
        "    pass"
      ],
      "metadata": {
        "id": "8JCEFgKn59eq"
      },
      "execution_count": null,
      "outputs": []
    },
    {
      "cell_type": "markdown",
      "source": [
        "### Step 7: Run the chatbot!\n",
        "\n",
        "Note: You can exit the chat loop any time by typeing `quit`, `exit`, or `q`"
      ],
      "metadata": {
        "id": "JuCW7jlz6DBD"
      }
    },
    {
      "cell_type": "code",
      "source": [
        "while True:\n",
        "    user_input = input(\"User: \")\n",
        "    if user_input.lower() in [\"quit\", \"exit\", \"q\"]:\n",
        "        print(\"Awesome you created your first LangGraph chatbot. Goodbye!\")\n",
        "        break\n",
        "    for event in graph.stream({\"messages\": (\"user\", user_input)}):\n",
        "        for value in event.values():\n",
        "            print(\"Assistant:\", value[\"messages\"][-1].content)"
      ],
      "metadata": {
        "id": "xzk1hxhj6R08"
      },
      "execution_count": null,
      "outputs": []
    }
  ]
}