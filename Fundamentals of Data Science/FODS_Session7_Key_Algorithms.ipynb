{
  "nbformat": 4,
  "nbformat_minor": 0,
  "metadata": {
    "colab": {
      "provenance": [],
      "authorship_tag": "ABX9TyOMBWwFubBc5qTSw8mYjZR9",
      "include_colab_link": true
    },
    "kernelspec": {
      "name": "python3",
      "display_name": "Python 3"
    },
    "language_info": {
      "name": "python"
    }
  },
  "cells": [
    {
      "cell_type": "markdown",
      "metadata": {
        "id": "view-in-github",
        "colab_type": "text"
      },
      "source": [
        "<a href=\"https://colab.research.google.com/github/marty916/AI-Training-Colab-Notebooks/blob/main/Fundamentals%20of%20Data%20Science/FODS_Session7_Key_Algorithms.ipynb\" target=\"_parent\"><img src=\"https://colab.research.google.com/assets/colab-badge.svg\" alt=\"Open In Colab\"/></a>"
      ]
    },
    {
      "cell_type": "markdown",
      "source": [
        "# Key Algorithms in Data Science"
      ],
      "metadata": {
        "id": "cjsULaLKAv_K"
      }
    },
    {
      "cell_type": "markdown",
      "source": [
        "## Setup Environment"
      ],
      "metadata": {
        "id": "JyGMXIa3A3pz"
      }
    },
    {
      "cell_type": "code",
      "execution_count": null,
      "metadata": {
        "id": "0pqKJMGNAkWi"
      },
      "outputs": [],
      "source": [
        "# Import necessary libraries\n",
        "import numpy as np\n",
        "import pandas as pd\n",
        "from sklearn.model_selection import train_test_split\n",
        "from sklearn.linear_model import LinearRegression, LogisticRegression\n",
        "from sklearn.neighbors import KNeighborsClassifier\n",
        "from sklearn.tree import DecisionTreeClassifier\n",
        "from sklearn.svm import SVC\n",
        "from sklearn.metrics import accuracy_score"
      ]
    },
    {
      "cell_type": "markdown",
      "source": [
        "## Linear Regression Example\n",
        "**Description:** Linear Regression is used to predict a continuous value. For example, predicting house prices based on the number of rooms.\n",
        "\n",
        "**Dataset:** Boston Housing Dataset\n",
        "\n",
        "[test_train_split](https://scikit-learn.org/stable/modules/generated/sklearn.model_selection.train_test_split.html)\n",
        "\n",
        "[Linear Regression](https://scikit-learn.org/stable/modules/generated/sklearn.linear_model.LinearRegression.html)"
      ],
      "metadata": {
        "id": "jW85x4i0BA4y"
      }
    },
    {
      "cell_type": "code",
      "source": [
        "# Load the Boston Housing dataset from Kaggle link\n",
        "url = \"https://raw.githubusercontent.com/selva86/datasets/master/BostonHousing.csv\"\n",
        "boston = pd.read_csv(url)\n",
        "\n",
        "# Selecting the 'RM' feature and the target variable\n",
        "X = boston[['rm']]  # 'rm' feature represents the average number of rooms per dwelling\n",
        "Y = boston['medv']  # 'medv' is the median value of owner-occupied homes in $1000s\n",
        "\n",
        "# Splitting the data into training and testing sets\n",
        "X_train, X_test, Y_train, Y_test = train_test_split(X, Y, test_size=0.2, random_state=42)\n",
        "\n",
        "# Creating and training the model\n",
        "model = LinearRegression()\n",
        "model.fit(X_train, Y_train)\n",
        "\n",
        "# Making predictions\n",
        "predictions = model.predict(X_test)\n",
        "\n",
        "# Showing some predictions and actual values\n",
        "print(\"Predictions:\", predictions[:5])\n",
        "print(\"Actual values:\", Y_test[:5].tolist())\n"
      ],
      "metadata": {
        "colab": {
          "base_uri": "https://localhost:8080/"
        },
        "id": "R0K1CG7CBRrm",
        "outputId": "72af2fe0-0d8d-4530-b94d-08bb87a1d21b"
      },
      "execution_count": null,
      "outputs": [
        {
          "output_type": "stream",
          "name": "stdout",
          "text": [
            "Predictions: [23.73238293 26.92950201 19.68456842 20.45112913 22.61993506]\n",
            "Actual values: [23.6, 32.4, 13.6, 22.8, 16.1]\n"
          ]
        }
      ]
    },
    {
      "cell_type": "markdown",
      "source": [
        "## Liner Regression Results Explained"
      ],
      "metadata": {
        "id": "9F69ptH8NV-t"
      }
    },
    {
      "cell_type": "markdown",
      "source": [
        "\n",
        "### Results\n",
        "**Prediction:** 23.73238293\n",
        "\n",
        "**Actual Value:** 23.6\n",
        "\n",
        "  The model predicted the median value of the home to be approximately $23,732 (in $1000s), which is very close to the actual value of $23,600. This indicates a good prediction.\n",
        "\n",
        "\n",
        "---\n",
        "\n",
        "\n",
        "**Prediction:** 26.92950201\n",
        "\n",
        "**Actual Value:** 32.4\n",
        "  \n",
        "  The model predicted $26,929, but the actual value is $32,400. Here, the prediction is lower than the actual value by a significant margin. This might be due to variations in the data that are not captured by the 'RM' feature alone.\n",
        "\n",
        "---\n",
        "\n",
        "**Prediction:** 19.68456842\n",
        "\n",
        "**Actual Value:** 13.6\n",
        "  \n",
        "  The model predicted $19,684, while the actual value is $13,600. This prediction is higher than the actual value, indicating some error in the model's estimate.\n",
        "\n",
        "---\n",
        "\n",
        "**Prediction:** 20.45112913\n",
        "\n",
        "**Actual Value:** 22.8\n",
        "    \n",
        "  The model predicted $20,451, and the actual value is $22,800. This prediction is slightly lower than the actual value, showing a reasonable prediction with some error.\n",
        "\n",
        "---\n",
        "\n",
        "**Prediction:** 22.61993506\n",
        "\n",
        "**Actual Value:** 16.1\n",
        "  \n",
        "  The model predicted $22,619, while the actual value is $16,100. This prediction is higher than the actual value, indicating some overestimation by the model.\n",
        "\n",
        "---\n",
        "\n",
        "### Observations\n",
        "\n",
        "  **Close Predictions:** The first prediction (23.732 vs 23.6) is very close to the actual value, showing the model can make accurate predictions in some cases.\n",
        "  \n",
        "  **Variability:** There is variability in the accuracy of the predictions. Some predictions are close to the actual values, while others show significant differences.\n",
        "  \n",
        "  **Feature Limitations:** The model uses only one feature ('RM'), which may not capture all the variability in home prices. Including more features could improve the accuracy of the predictions.\n",
        "\n",
        "### Conclusion\n",
        "\n",
        "Linear Regression is a useful tool for predicting continuous values, but its accuracy depends on the features used and the inherent variability in the data. In this example, while some predictions were close to the actual values, others showed significant differences, highlighting the importance of using a comprehensive set of features for better predictions."
      ],
      "metadata": {
        "id": "n4fXb1WcE0wT"
      }
    },
    {
      "cell_type": "markdown",
      "source": [
        "## Logistical Regression Example\n",
        "**Description:** Logistic Regression is used to predict binary outcomes. For example, predicting whether a passenger survived the Titanic disaster.\n",
        "\n",
        "**Dataset:** Titanic Dataset"
      ],
      "metadata": {
        "id": "E0QWQB3iBXlM"
      }
    },
    {
      "cell_type": "code",
      "source": [
        "# Load the Titanic dataset\n",
        "url = \"https://raw.githubusercontent.com/datasciencedojo/datasets/master/titanic.csv\"\n",
        "data = pd.read_csv(url)\n",
        "\n",
        "# Select relevant features and target\n",
        "X = data[['Pclass', 'Age', 'SibSp', 'Parch']]\n",
        "Y = data['Survived']\n",
        "\n",
        "# Handle missing values\n",
        "X.loc[:, 'Age'] = X['Age'].fillna(X['Age'].mean())\n",
        "\n",
        "# Split the data into training and testing sets\n",
        "X_train, X_test, Y_train, Y_test = train_test_split(X, Y, test_size=0.2, random_state=42)\n",
        "\n",
        "# Create and train the model\n",
        "model = LogisticRegression(max_iter=1000)\n",
        "model.fit(X_train, Y_train)\n",
        "\n",
        "# Make predictions\n",
        "predictions = model.predict(X_test)\n",
        "\n",
        "# Evaluate the model\n",
        "accuracy = accuracy_score(Y_test, predictions)\n",
        "print(\"Model accuracy:\", accuracy)\n"
      ],
      "metadata": {
        "colab": {
          "base_uri": "https://localhost:8080/"
        },
        "id": "87XttxEpBlGv",
        "outputId": "0af1c948-d0b7-4859-fac3-68576ce4e85c"
      },
      "execution_count": null,
      "outputs": [
        {
          "output_type": "stream",
          "name": "stdout",
          "text": [
            "Model accuracy: 0.7430167597765364\n"
          ]
        }
      ]
    },
    {
      "cell_type": "markdown",
      "source": [
        "## Locigal Regression Example Results Explained"
      ],
      "metadata": {
        "id": "UqGN1EHcPtk9"
      }
    },
    {
      "cell_type": "markdown",
      "source": [
        "### Explanation\n",
        "\n",
        "Model accuracy: 0.7430167597765364 means that the model's predictions were approximately 74.30% accurate on the test set. This indicates that the model correctly predicted the survival status for about 74.30% of the passengers in the test set.\n",
        "Detailed Analysis\n",
        "\n",
        "    Accuracy Interpretation:\n",
        "        An accuracy score of 0.7430167597765364 indicates that the model correctly predicted the survival status for approximately 74.30% of the test instances. This is a reasonable accuracy for a logistic regression model given the complexity and variability of the data.\n",
        "\n",
        "    Feature Contribution:\n",
        "        The selected features (Pclass, Age, SibSp, Parch) provide important information about the passengers that can help predict their survival. For example, passenger class (Pclass) can be a strong indicator as higher-class passengers might have had better access to lifeboats.\n",
        "\n",
        "    Model Limitations:\n",
        "        Logistic Regression is a linear model, and its performance might be limited by the linear relationships it can capture. Non-linear relationships in the data might not be fully captured by this model.\n",
        "        Other features such as gender, fare, and cabin location, which are known to significantly impact survival chances, were not included in this example. Including these features might improve the model's accuracy.\n",
        "\n",
        "    Imbalanced Data:\n",
        "        The dataset might be imbalanced, with more instances of one class (e.g., non-survivors) than the other. Imbalanced datasets can affect model performance, and additional techniques like oversampling or undersampling might be needed to address this.\n",
        "\n",
        "    Data Preprocessing:\n",
        "        Handling missing values in the Age column by filling them with the mean age is a simple imputation technique. More sophisticated techniques, such as using a model to predict missing values, might improve the model's performance.\n",
        "\n",
        "Conclusion\n",
        "\n",
        "The Logistic Regression model achieved an accuracy of approximately 74.30% on the Titanic dataset, correctly predicting the survival status for the majority of the test set instances. This accuracy indicates that the model performs reasonably well but has room for improvement. Enhancing the model by including more relevant features, addressing potential data imbalance, and exploring non-linear models could potentially increase the accuracy further."
      ],
      "metadata": {
        "id": "3fGXnxvNPzRm"
      }
    },
    {
      "cell_type": "markdown",
      "source": [
        "## K-Nearest Neighbors (KNN) Example\n",
        "**Description:** KNN is used to classify data points based on their neighbors. For example, classifying iris flowers based on petal and sepal measurements.\n",
        "\n",
        "**Dataset:** Iris Dataset\n",
        "\n",
        "[KneighborsClassifier](https://scikit-learn.org/stable/modules/generated/sklearn.neighbors.KNeighborsClassifier.html)\n"
      ],
      "metadata": {
        "id": "O3xbd4o2Bo9T"
      }
    },
    {
      "cell_type": "code",
      "source": [
        "from sklearn.datasets import load_iris\n",
        "\n",
        "# Load the Iris dataset\n",
        "iris = load_iris()\n",
        "X = iris.data\n",
        "Y = iris.target\n",
        "\n",
        "# Split the data into training and testing sets\n",
        "X_train, X_test, Y_train, Y_test = train_test_split(X, Y, test_size=0.2, random_state=42)\n",
        "\n",
        "# Create and train the model\n",
        "model = KNeighborsClassifier(n_neighbors=3)\n",
        "model.fit(X_train, Y_train)\n",
        "\n",
        "# Make predictions\n",
        "predictions = model.predict(X_test)\n",
        "\n",
        "# Evaluate the model\n",
        "accuracy = accuracy_score(Y_test, predictions)\n",
        "print(\"Model accuracy:\", accuracy)\n"
      ],
      "metadata": {
        "colab": {
          "base_uri": "https://localhost:8080/"
        },
        "id": "Ufj4C19jBzDe",
        "outputId": "75fcbe63-e641-41ba-8da6-ddfbec9151b6"
      },
      "execution_count": null,
      "outputs": [
        {
          "output_type": "stream",
          "name": "stdout",
          "text": [
            "Model accuracy: 1.0\n"
          ]
        }
      ]
    },
    {
      "cell_type": "markdown",
      "source": [
        "## KNN Results Explained"
      ],
      "metadata": {
        "id": "h-mpprEzP-ll"
      }
    },
    {
      "cell_type": "markdown",
      "source": [
        "### Explanation\n",
        "\n",
        "Model accuracy: 1.0 means that the model's predictions were 100% accurate on the test set. Every prediction made by the model matched the actual value in the test set.\n",
        "Detailed Analysis\n",
        "\n",
        "    Perfect Accuracy:\n",
        "        An accuracy score of 1.0 indicates that the model correctly predicted the species of every iris flower in the test set. This means that there were no misclassifications.\n",
        "\n",
        "    Iris Dataset Characteristics:\n",
        "        The Iris dataset is well-known and often used in machine learning because it is relatively simple and the classes (species) are well-separated in the feature space. This makes it easier for models like KNN to achieve high accuracy.\n",
        "\n",
        "    KNN Model:\n",
        "        KNN is a straightforward algorithm that classifies a data point based on the majority class among its k nearest neighbors. In this case, we used k=3, meaning the classification was based on the closest 3 neighbors.\n",
        "        The success of KNN depends on having a well-defined distance metric and a dataset where the classes are distinguishable based on the selected features.\n",
        "\n",
        "    Overfitting Potential:\n",
        "        While perfect accuracy on the test set is impressive, it is important to consider the size and simplicity of the dataset. In real-world applications, achieving perfect accuracy may indicate overfitting, where the model learns the training data too well, including noise and outliers.\n",
        "        However, in this case, the Iris dataset's simplicity and the clear separation of classes likely contributed to the perfect accuracy.\n",
        "\n",
        "Conclusion\n",
        "\n",
        "The KNN model achieved perfect accuracy (1.0) on the Iris dataset, correctly classifying every iris flower in the test set. This high accuracy is due to the well-defined and distinguishable classes in the dataset, making it easier for the KNN algorithm to find the correct classifications based on the nearest neighbors. While perfect accuracy is desirable, in more complex real-world datasets, it is essential to ensure that the model generalizes well and does not overfit to the training data.\n"
      ],
      "metadata": {
        "id": "lYp9mWPJKJHp"
      }
    },
    {
      "cell_type": "markdown",
      "source": [
        "## Decision Tree Example\n",
        "**Description:** A Decision Tree is used to make decisions based on a series of questions. For example, predicting loan approval based on factors like income and credit score.\n",
        "\n",
        "**Dataset:** Simplified Loan Data\n",
        "\n",
        "[DecisionTreeClassifier](https://scikit-learn.org/stable/modules/generated/sklearn.tree.DecisionTreeClassifier.html)"
      ],
      "metadata": {
        "id": "uqY6BBZoB2on"
      }
    },
    {
      "cell_type": "code",
      "source": [
        "# Simplified dataset creation\n",
        "data = {\n",
        "    'loan_amnt': [1000, 2000, 3000, 4000, 5000],\n",
        "    'term': [' 36 months', ' 36 months', ' 60 months', ' 36 months', ' 60 months'],\n",
        "    'int_rate': [10, 12, 15, 10, 18],\n",
        "    'installment': [50, 70, 100, 50, 120],\n",
        "    'annual_inc': [50000, 60000, 75000, 50000, 80000],\n",
        "    'loan_status': [1, 1, 0, 1, 0]\n",
        "}\n",
        "loan_data = pd.DataFrame(data)\n",
        "\n",
        "# Select relevant features and target\n",
        "X = loan_data[['loan_amnt', 'term', 'int_rate', 'installment', 'annual_inc']]\n",
        "Y = loan_data['loan_status']\n",
        "\n",
        "# Convert categorical data to numerical\n",
        "X.loc[:, 'term'] = X['term'].apply(lambda x: int(x.strip(' months')))\n",
        "\n",
        "# Split the data into training and testing sets\n",
        "X_train, X_test, Y_train, Y_test = train_test_split(X, Y, test_size=0.2, random_state=42)\n",
        "\n",
        "# Create and train the model\n",
        "model = DecisionTreeClassifier()\n",
        "model.fit(X_train, Y_train)\n",
        "\n",
        "# Make predictions\n",
        "predictions = model.predict(X_test)\n",
        "\n",
        "# Evaluate the model\n",
        "accuracy = accuracy_score(Y_test, predictions)\n",
        "print(\"Model accuracy:\", accuracy)\n"
      ],
      "metadata": {
        "colab": {
          "base_uri": "https://localhost:8080/"
        },
        "id": "OD6GD_JRB-gl",
        "outputId": "ac1b83de-9070-40b7-fb47-2372549b8434"
      },
      "execution_count": null,
      "outputs": [
        {
          "output_type": "stream",
          "name": "stdout",
          "text": [
            "Model accuracy: 1.0\n"
          ]
        }
      ]
    },
    {
      "cell_type": "markdown",
      "source": [
        "## Decsion Tree Results Explained"
      ],
      "metadata": {
        "id": "Y20-YavpQN59"
      }
    },
    {
      "cell_type": "markdown",
      "source": [
        "### Explanation\n",
        "\n",
        "Model accuracy: 1.0 means that the model's predictions were 100% accurate on the test set. Every prediction made by the model matched the actual value in the test set.\n",
        "Detailed Analysis\n",
        "\n",
        "    Perfect Accuracy:\n",
        "        An accuracy score of 1.0 indicates that the model correctly predicted the loan status for every instance in the test set. This means that there were no misclassifications.\n",
        "\n",
        "    Simplified Dataset:\n",
        "        The dataset used in this example is quite small and simplified, with only a few data points. This can make it easier for the Decision Tree model to perfectly classify the data, especially if there are clear patterns or separations in the features.\n",
        "\n",
        "    Clear Patterns:\n",
        "        Given the small size of the dataset and the clear separations in the data, the Decision Tree model was able to perfectly capture the patterns and make accurate predictions.\n",
        "\n",
        "    Overfitting Potential:\n",
        "        In real-world scenarios, achieving perfect accuracy on the test set might indicate overfitting. Overfitting occurs when the model learns the training data too well, including noise and outliers, making it perform poorly on new, unseen data. However, given the simplicity and size of our dataset, overfitting might not be as significant an issue here.\n",
        "        To check for overfitting, we would typically need a larger dataset and possibly use techniques like cross-validation to ensure that the model generalizes well to new data.\n",
        "\n",
        "Conclusion\n",
        "\n",
        "The Decision Tree model achieved perfect accuracy (1.0) on the simplified loan dataset, correctly predicting the loan status for every instance in the test set. This high accuracy is partly due to the small and simplified nature of the dataset, making it easier for the model to find clear patterns. While perfect accuracy is desirable, in real-world applications, we must be cautious of overfitting and ensure that the model generalizes well to new data."
      ],
      "metadata": {
        "id": "mGmbBOiOLtlB"
      }
    },
    {
      "cell_type": "markdown",
      "source": [
        "## Support Vector Classifier (SVC) Example\n",
        "**Description:** SVM is used for classification by finding the best boundary (hyperplane) to separate different classes. For example, classifying handwritten digits.\n",
        "\n",
        "**Dataset:** MNIST Dataset\n",
        "\n",
        "[SVC](https://scikit-learn.org/stable/modules/generated/sklearn.svm.SVC.html)\n"
      ],
      "metadata": {
        "id": "_sDtk3loCBky"
      }
    },
    {
      "cell_type": "code",
      "source": [
        "from sklearn.datasets import load_digits\n",
        "\n",
        "# Load the MNIST dataset\n",
        "digits = load_digits()\n",
        "X = digits.data\n",
        "Y = digits.target\n",
        "\n",
        "# Split the data into training and testing sets\n",
        "X_train, X_test, Y_train, Y_test = train_test_split(X, Y, test_size=0.2, random_state=42)\n",
        "\n",
        "# Create and train the model\n",
        "model = SVC(kernel='linear')\n",
        "model.fit(X_train, Y_train)\n",
        "\n",
        "# Make predictions\n",
        "predictions = model.predict(X_test)\n",
        "\n",
        "# Evaluate the model\n",
        "accuracy = accuracy_score(Y_test, predictions)\n",
        "print(\"Model accuracy:\", accuracy)\n"
      ],
      "metadata": {
        "colab": {
          "base_uri": "https://localhost:8080/"
        },
        "id": "RUZ9O6oZCLu8",
        "outputId": "8c991d3c-2300-42ac-d809-ac8413cbaee1"
      },
      "execution_count": null,
      "outputs": [
        {
          "output_type": "stream",
          "name": "stdout",
          "text": [
            "Model accuracy: 0.9777777777777777\n"
          ]
        }
      ]
    },
    {
      "cell_type": "markdown",
      "source": [
        "## SVC Example Results Explained"
      ],
      "metadata": {
        "id": "ixm_5BfiQbed"
      }
    },
    {
      "cell_type": "markdown",
      "source": [
        "### Explanation\n",
        "\n",
        "Model accuracy: 0.9777777777777777 means that the model's predictions were approximately 97.78% accurate on the test set. This indicates that the model correctly classified about 97.78% of the test images.\n",
        "Detailed Analysis\n",
        "\n",
        "    High Accuracy:\n",
        "        An accuracy score of 0.9777777777777777 indicates that the model correctly predicted the digit for the majority of the test set instances. This is a very high accuracy, especially for a complex classification task like handwritten digit recognition.\n",
        "\n",
        "    Nature of MNIST Dataset:\n",
        "        The MNIST dataset is well-studied and often used as a benchmark for classification algorithms. The images are standardized and relatively easy to classify compared to more complex real-world images. This contributes to the high accuracy achieved by the SVM model.\n",
        "\n",
        "    SVM Model:\n",
        "        SVM is a powerful classification algorithm that works well with high-dimensional data. The linear kernel used in this example is effective for the MNIST dataset because the data is linearly separable in the high-dimensional pixel space.\n",
        "        SVM finds the best boundary (hyperplane) to separate different classes (digits) by maximizing the margin between the classes.\n",
        "\n",
        "    Misclassifications:\n",
        "        Despite the high accuracy, the model still made some mistakes, misclassifying approximately 2.22% of the test instances. This could be due to:\n",
        "            Similarity between some handwritten digits, making them difficult to distinguish.\n",
        "            Noise or variations in the handwriting that the model could not perfectly generalize.\n",
        "            Limitations of using a linear kernel; in some cases, a non-linear kernel might capture more complex patterns in the data.\n",
        "\n",
        "Conclusion\n",
        "\n",
        "The SVM model achieved a high accuracy of approximately 97.78% on the MNIST dataset, correctly classifying the majority of the handwritten digits in the test set. This high accuracy demonstrates the effectiveness of the SVM algorithm with a linear kernel for this task. However, there were still some misclassifications, highlighting that even highly accurate models can have limitations and areas for improvement.\n",
        "\n",
        "\n"
      ],
      "metadata": {
        "id": "mVfHU_Y_L8tI"
      }
    },
    {
      "cell_type": "markdown",
      "source": [
        "# K-Means Clusering on the Mall Customers Dataset"
      ],
      "metadata": {
        "id": "oMiwT98kJt1D"
      }
    },
    {
      "cell_type": "code",
      "source": [
        "# Import necessary libraries\n",
        "import pandas as pd\n",
        "import matplotlib.pyplot as plt\n",
        "from sklearn.preprocessing import StandardScaler\n",
        "from sklearn.cluster import KMeans\n",
        "\n",
        "# Load the Mall Customers dataset\n",
        "# Download Mall_Customers from https://www.kaggle.com/datasets/shwetabh123/mall-customers?select=Mall_Customers.csv\n",
        "df = pd.read_csv(\"Mall_Customers.csv\")\n",
        "\n",
        "# Select relevant features\n",
        "X = df[['Annual Income (k$)', 'Spending Score (1-100)']]\n",
        "\n",
        "# Standardize the features\n",
        "scaler = StandardScaler()\n",
        "X_scaled = scaler.fit_transform(X)\n",
        "\n",
        "# Apply K-Means clustering\n",
        "kmeans = KMeans(n_clusters=5, random_state=42)\n",
        "kmeans.fit(X_scaled)\n",
        "df['cluster'] = kmeans.labels_\n",
        "\n",
        "# Plot the clusters\n",
        "plt.figure(figsize=(10, 6))\n",
        "plt.scatter(df['Annual Income (k$)'], df['Spending Score (1-100)'], c=df['cluster'], cmap='viridis')\n",
        "plt.xlabel('Annual Income (k$)')\n",
        "plt.ylabel('Spending Score (1-100)')\n",
        "plt.title('K-Means Clustering on Mall Customers Dataset')\n",
        "plt.show()\n"
      ],
      "metadata": {
        "colab": {
          "base_uri": "https://localhost:8080/",
          "height": 574
        },
        "id": "Ve-W7LUhJ2LE",
        "outputId": "6a291a70-8d41-45c7-d6db-f63a36c97ec6"
      },
      "execution_count": null,
      "outputs": [
        {
          "output_type": "stream",
          "name": "stderr",
          "text": [
            "/usr/local/lib/python3.10/dist-packages/sklearn/cluster/_kmeans.py:1416: FutureWarning: The default value of `n_init` will change from 10 to 'auto' in 1.4. Set the value of `n_init` explicitly to suppress the warning\n",
            "  super()._check_params_vs_input(X, default_n_init=10)\n"
          ]
        },
        {
          "output_type": "display_data",
          "data": {
            "text/plain": [
              "<Figure size 1000x600 with 1 Axes>"
            ],
            "image/png": "[encoded data removed]"
          },
          "metadata": {}
        }
      ]
    },
    {
      "cell_type": "markdown",
      "source": [
        "# Simple Recommender Systems Using Collaborative Filtering"
      ],
      "metadata": {
        "id": "3J3A0lW-KYpB"
      }
    },
    {
      "cell_type": "code",
      "source": [
        "# Import necessary libraries\n",
        "import pandas as pd\n",
        "import zipfile\n",
        "import os\n",
        "\n",
        "# Upload the 'ml-latest-small.zip' file in Colab and set the path\n",
        "zip_path = 'ml-latest-small.zip'\n",
        "\n",
        "# Unzip the file\n",
        "with zipfile.ZipFile(zip_path, 'r') as zip_ref:\n",
        "    zip_ref.extractall()\n",
        "\n",
        "# Set the directory path\n",
        "data_path = 'ml-latest-small/'\n",
        "\n",
        "# Load the data\n",
        "movies = pd.read_csv(os.path.join(data_path, 'movies.csv'))\n",
        "ratings = pd.read_csv(os.path.join(data_path, 'ratings.csv'))\n",
        "\n",
        "# Display the first few rows of the movies and ratings dataframes\n",
        "print(movies.head())\n",
        "print(ratings.head())\n"
      ],
      "metadata": {
        "colab": {
          "base_uri": "https://localhost:8080/"
        },
        "id": "4ZQfZuCcKdeD",
        "outputId": "3edc253d-9de3-430a-ccfd-01f8b9269379"
      },
      "execution_count": null,
      "outputs": [
        {
          "output_type": "stream",
          "name": "stdout",
          "text": [
            "   movieId                               title  \\\n",
            "0        1                    Toy Story (1995)   \n",
            "1        2                      Jumanji (1995)   \n",
            "2        3             Grumpier Old Men (1995)   \n",
            "3        4            Waiting to Exhale (1995)   \n",
            "4        5  Father of the Bride Part II (1995)   \n",
            "\n",
            "                                        genres  \n",
            "0  Adventure|Animation|Children|Comedy|Fantasy  \n",
            "1                   Adventure|Children|Fantasy  \n",
            "2                               Comedy|Romance  \n",
            "3                         Comedy|Drama|Romance  \n",
            "4                                       Comedy  \n",
            "   userId  movieId  rating  timestamp\n",
            "0       1        1     4.0  964982703\n",
            "1       1        3     4.0  964981247\n",
            "2       1        6     4.0  964982224\n",
            "3       1       47     5.0  964983815\n",
            "4       1       50     5.0  964982931\n"
          ]
        }
      ]
    },
    {
      "cell_type": "code",
      "source": [
        "# Import necessary libraries\n",
        "from sklearn.metrics.pairwise import cosine_similarity\n",
        "import numpy as np\n",
        "import pandas as pd\n",
        "\n",
        "# Assuming you have the `ratings` and `movies` DataFrames already loaded\n",
        "# Create a user-item matrix\n",
        "user_item_matrix = ratings.pivot(index='userId', columns='movieId', values='rating').fillna(0)\n",
        "\n",
        "# Compute cosine similarity between users\n",
        "user_similarity = cosine_similarity(user_item_matrix)\n",
        "user_similarity_df = pd.DataFrame(user_similarity, index=user_item_matrix.index, columns=user_item_matrix.index)\n",
        "\n",
        "# Function to recommend movies\n",
        "def recommend_movies(user_id, num_recommendations):\n",
        "    # Get the similarity scores for the given user\n",
        "    sim_scores = user_similarity_df[user_id]\n",
        "\n",
        "    # Get the user's ratings\n",
        "    user_ratings = user_item_matrix.loc[user_id]\n",
        "\n",
        "    # Predict ratings for all movies\n",
        "    # Align indices before dot product\n",
        "    predicted_ratings = user_item_matrix.T.dot(sim_scores) / sim_scores.sum()\n",
        "\n",
        "    # Recommend the movies with the highest predicted ratings that the user hasn't seen\n",
        "    recommendations = predicted_ratings[user_ratings == 0].sort_values(ascending=False).head(num_recommendations)\n",
        "    recommended_movie_ids = recommendations.index\n",
        "    recommended_movies = movies[movies['movieId'].isin(recommended_movie_ids)]\n",
        "\n",
        "    return recommended_movies[['movieId', 'title']]\n",
        "\n",
        "# Example usage: Recommend 5 movies for user 1\n",
        "recommendations = recommend_movies(1, 5)\n",
        "print(recommendations)\n"
      ],
      "metadata": {
        "colab": {
          "base_uri": "https://localhost:8080/"
        },
        "id": "Y4E9HKWANVEX",
        "outputId": "888b7ca1-b007-46a9-9aa1-283bad8b6f8a"
      },
      "execution_count": null,
      "outputs": [
        {
          "output_type": "stream",
          "name": "stdout",
          "text": [
            "      movieId                                              title\n",
            "277       318                   Shawshank Redemption, The (1994)\n",
            "507       589                  Terminator 2: Judgment Day (1991)\n",
            "659       858                              Godfather, The (1972)\n",
            "2078     2762                            Sixth Sense, The (1999)\n",
            "3638     4993  Lord of the Rings: The Fellowship of the Ring,...\n"
          ]
        }
      ]
    }
  ]
}